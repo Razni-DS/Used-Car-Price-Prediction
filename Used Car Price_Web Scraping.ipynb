{
 "cells": [
  {
   "cell_type": "markdown",
   "id": "f0d29313",
   "metadata": {},
   "source": [
    "# Web Scraping"
   ]
  },
  {
   "cell_type": "code",
   "execution_count": null,
   "id": "1d65c81e",
   "metadata": {},
   "outputs": [],
   "source": [
    "#import libraries\n",
    "\n",
    "import selenium\n",
    "import pandas as pd\n",
    "from selenium import webdriver\n",
    "import warnings\n",
    "warnings.filterwarnings(\"ignore\")\n",
    "import time"
   ]
  },
  {
   "cell_type": "code",
   "execution_count": null,
   "id": "9ff7d53c",
   "metadata": {},
   "outputs": [],
   "source": [
    "from selenium.common.exceptions import NoSuchElementException"
   ]
  },
  {
   "cell_type": "code",
   "execution_count": null,
   "id": "79c9bfd2",
   "metadata": {},
   "outputs": [],
   "source": [
    "#connecting to the web driver\n",
    "\n",
    "driver=webdriver.Chrome(\"/Users/sraazi_reni/Downloads/chromedriver\")\n",
    "time.sleep(2)"
   ]
  },
  {
   "cell_type": "code",
   "execution_count": null,
   "id": "3635f2f2",
   "metadata": {},
   "outputs": [],
   "source": [
    "driver.get(\"https://www.cars24.com/buy-used-car?sort=P&storeCityId=2&pinId=110001\")   #New Delhi"
   ]
  },
  {
   "cell_type": "code",
   "execution_count": null,
   "id": "6f98af07",
   "metadata": {},
   "outputs": [],
   "source": [
    "#scroll\n",
    "for _ in range(150):\n",
    "    driver.execute_script(\"window.scrollBy(0,800)\")\n",
    "    time.sleep(0.5)"
   ]
  },
  {
   "cell_type": "code",
   "execution_count": null,
   "id": "a4ee85d7",
   "metadata": {},
   "outputs": [],
   "source": [
    "titles_tags=driver.find_elements_by_xpath(\"//h2[@class='_3FpCg']\")\n",
    "Brand=[]\n",
    "for i in titles_tags:\n",
    "    title=i.text\n",
    "    Brand.append(title)\n",
    "    \n",
    "Brand[0:4]"
   ]
  },
  {
   "cell_type": "code",
   "execution_count": null,
   "id": "8f66c6c3",
   "metadata": {},
   "outputs": [],
   "source": [
    "variant_tags=driver.find_elements_by_xpath(\"//p[@class='cvakB']\")\n",
    "Variant=[]\n",
    "for i in variant_tags:\n",
    "    title=i.text\n",
    "    Variant.append(title)\n",
    "    \n",
    "Variant[0:4]"
   ]
  },
  {
   "cell_type": "code",
   "execution_count": null,
   "id": "d05e5ff3",
   "metadata": {},
   "outputs": [],
   "source": [
    "km_tags=driver.find_elements_by_xpath(\"//ul[@class='bVR0c']\")\n",
    "kms_driven=[]\n",
    "for i in km_tags:\n",
    "    title=i.text\n",
    "    kms_driven.append(title.split()[0])\n",
    "    \n",
    "kms_driven[0:4]"
   ]
  },
  {
   "cell_type": "code",
   "execution_count": null,
   "id": "35206c1b",
   "metadata": {},
   "outputs": [],
   "source": [
    "owner_tags=driver.find_elements_by_xpath(\"//ul[@class='bVR0c']\")\n",
    "no_of_owners=[]\n",
    "for i in owner_tags:\n",
    "    title=i.text\n",
    "    no_of_owners.append(title.split()[2])\n",
    "    \n",
    "no_of_owners[0:4]"
   ]
  },
  {
   "cell_type": "code",
   "execution_count": null,
   "id": "a6cb25df",
   "metadata": {},
   "outputs": [],
   "source": [
    "fuel_tags=driver.find_elements_by_xpath(\"//ul[@class='bVR0c']\")\n",
    "fuel_type=[]\n",
    "for i in fuel_tags:\n",
    "    title=i.text\n",
    "    fuel_type.append(title.split()[4])\n",
    "    \n",
    "fuel_type[0:4]"
   ]
  },
  {
   "cell_type": "code",
   "execution_count": null,
   "id": "0e433906",
   "metadata": {},
   "outputs": [],
   "source": [
    "price_tags=driver.find_elements_by_xpath(\"//div[@class='_7udZZ']\")\n",
    "Price=[]\n",
    "for i in price_tags:\n",
    "    title=i.text\n",
    "    Price.append(title)\n",
    "    \n",
    "Price[0:4]"
   ]
  },
  {
   "cell_type": "code",
   "execution_count": null,
   "id": "018c5edf",
   "metadata": {},
   "outputs": [],
   "source": [
    "print(len(Brand),len(Variant),len(no_of_owners),len(fuel_type),len(Price),len(kms_driven))"
   ]
  },
  {
   "cell_type": "code",
   "execution_count": null,
   "id": "d519cae8",
   "metadata": {},
   "outputs": [],
   "source": [
    "car_url=[]\n",
    "urls=driver.find_elements_by_xpath(\"//div[@class='col-4']/a\")\n",
    "for i in urls:\n",
    "    car_url.append(i.get_attribute('href'))\n",
    "        \n",
    "print(len(car_url))"
   ]
  },
  {
   "cell_type": "code",
   "execution_count": null,
   "id": "0d18f048",
   "metadata": {},
   "outputs": [],
   "source": [
    "car_url[0:4]"
   ]
  },
  {
   "cell_type": "code",
   "execution_count": null,
   "id": "c38b25cd",
   "metadata": {},
   "outputs": [],
   "source": [
    "History=[]\n",
    "Transmission=[]\n",
    "MaxPower=[]\n",
    "FuelCapacity=[]\n",
    "Seats=[]\n",
    "Mileage=[]"
   ]
  },
  {
   "cell_type": "code",
   "execution_count": null,
   "id": "80230461",
   "metadata": {},
   "outputs": [],
   "source": [
    "for i in car_url:\n",
    "    driver.get(i)\n",
    "    time.sleep(2)\n",
    "    \n",
    "    #scroll\n",
    "    for _ in range(50):\n",
    "        driver.execute_script(\"window.scrollBy(0,50)\")\n",
    "    \n",
    "    #scraping History\n",
    "    try:\n",
    "        his = driver.find_element_by_xpath(\"//*[text()='History']/following-sibling::strong\")\n",
    "        History.append(his.text)\n",
    "    except NoSuchElementException:\n",
    "        History.append('-')\n",
    "        \n",
    "    #scraping Transmission\n",
    "    try:\n",
    "        tran = driver.find_element_by_xpath(\"//*[text()='Transmission']/following-sibling::strong\")\n",
    "        Transmission.append(tran.text)\n",
    "    except NoSuchElementException:\n",
    "        Transmission.append('-')      "
   ]
  },
  {
   "cell_type": "code",
   "execution_count": null,
   "id": "8388cb8e",
   "metadata": {},
   "outputs": [],
   "source": [
    "print(len(History),len(Transmission))"
   ]
  },
  {
   "cell_type": "code",
   "execution_count": null,
   "id": "b8181be5",
   "metadata": {},
   "outputs": [],
   "source": [
    "History[0:4]"
   ]
  },
  {
   "cell_type": "code",
   "execution_count": null,
   "id": "131be101",
   "metadata": {},
   "outputs": [],
   "source": [
    "for i in car_url:\n",
    "    driver.get(i)\n",
    "    time.sleep(2)\n",
    "\n",
    "\n",
    "    #clicking to view all specifications\n",
    "    try:\n",
    "        view_more = driver.find_element_by_xpath(\"//*[text() = 'VIEW ALL SPECS & FEATURES'\")\n",
    "        driver.execute_script(\"arguments[0].scrollIntoView();\", view_more)\n",
    "        driver.execute_script(\"arguments[0].click();\", view_more)\n",
    "        time.sleep(2)\n",
    "    except NoSuchElementException:\n",
    "        pass\n",
    "    \n",
    "  \n",
    "            #scraping Maxpower\n",
    "        "
   ]
  },
  {
   "cell_type": "code",
   "execution_count": null,
   "id": "b0c32f3e",
   "metadata": {},
   "outputs": [],
   "source": [
    "driver.close()"
   ]
  },
  {
   "cell_type": "code",
   "execution_count": null,
   "id": "e6884a27",
   "metadata": {},
   "outputs": [],
   "source": [
    "driver=webdriver.Chrome(\"/Users/sraazi_reni/Downloads/chromedriver\")\n",
    "time.sleep(2)\n",
    "\n",
    "driver.get(\"https://www.cars24.com/buy-used-car?sort=P&storeCityId=134&pinId=201301\")    #Noida\n",
    "time.sleep(5)"
   ]
  },
  {
   "cell_type": "code",
   "execution_count": null,
   "id": "ad7e688e",
   "metadata": {},
   "outputs": [],
   "source": [
    "#scroll\n",
    "for _ in range(1000):\n",
    "    driver.execute_script(\"window.scrollBy(0,1000)\")\n",
    "time.sleep(2)"
   ]
  },
  {
   "cell_type": "code",
   "execution_count": null,
   "id": "c2c6163f",
   "metadata": {},
   "outputs": [],
   "source": [
    "titles_tags=driver.find_elements_by_xpath(\"//h2[@class='_3FpCg']\")\n",
    "for i in titles_tags:\n",
    "    title=i.text\n",
    "    Brand.append(title)\n",
    "    \n",
    "\n",
    "variant_tags=driver.find_elements_by_xpath(\"//p[@class='cvakB']\")\n",
    "for i in variant_tags:\n",
    "    title=i.text\n",
    "    Variant.append(title)\n",
    "    \n",
    "\n",
    "km_tags=driver.find_elements_by_xpath(\"//ul[@class='bVR0c']\")\n",
    "for i in km_tags:\n",
    "    title=i.text\n",
    "    kms_driven.append(title.split()[0])\n",
    "    \n",
    "\n",
    "owner_tags=driver.find_elements_by_xpath(\"//ul[@class='bVR0c']\")\n",
    "for i in owner_tags:\n",
    "    title=i.text\n",
    "    no_of_owners.append(title.split()[2])\n",
    "    \n",
    "fuel_tags=driver.find_elements_by_xpath(\"//ul[@class='bVR0c']\")\n",
    "for i in fuel_tags:\n",
    "    title=i.text\n",
    "    fuel_type.append(title.split()[4])\n",
    "\n",
    "price_tags=driver.find_elements_by_xpath(\"//div[@class='_7udZZ']\")\n",
    "for i in price_tags:\n",
    "    title=i.text\n",
    "    Price.append(title)"
   ]
  },
  {
   "cell_type": "code",
   "execution_count": null,
   "id": "27481500",
   "metadata": {},
   "outputs": [],
   "source": [
    "print(len(Brand),len(Variant),len(no_of_owners),len(fuel_type),len(Price),len(kms_driven))"
   ]
  },
  {
   "cell_type": "code",
   "execution_count": null,
   "id": "00fb45d3",
   "metadata": {},
   "outputs": [],
   "source": [
    "driver.close()"
   ]
  },
  {
   "cell_type": "code",
   "execution_count": null,
   "id": "7fb0f982",
   "metadata": {},
   "outputs": [],
   "source": [
    "driver=webdriver.Chrome(\"/Users/sraazi_reni/Downloads/chromedriver\")\n",
    "time.sleep(2)\n",
    "\n",
    "driver.get(\"https://www.cars24.com/buy-used-car?sort=P&storeCityId=2378&pinId=400001\")   #Mumbai\n",
    "time.sleep(5)"
   ]
  },
  {
   "cell_type": "code",
   "execution_count": null,
   "id": "0d44c5d0",
   "metadata": {},
   "outputs": [],
   "source": [
    "#scroll\n",
    "for _ in range(1000):\n",
    "    driver.execute_script(\"window.scrollBy(0,1000)\")\n",
    "time.sleep(2)"
   ]
  },
  {
   "cell_type": "code",
   "execution_count": null,
   "id": "dfb4345e",
   "metadata": {},
   "outputs": [],
   "source": [
    "titles_tags=driver.find_elements_by_xpath(\"//h2[@class='_3FpCg']\")\n",
    "for i in titles_tags:\n",
    "    title=i.text\n",
    "    Brand.append(title)\n",
    "    \n",
    "\n",
    "variant_tags=driver.find_elements_by_xpath(\"//p[@class='cvakB']\")\n",
    "for i in variant_tags:\n",
    "    title=i.text\n",
    "    Variant.append(title)\n",
    "    \n",
    "\n",
    "km_tags=driver.find_elements_by_xpath(\"//ul[@class='bVR0c']\")\n",
    "for i in km_tags:\n",
    "    title=i.text\n",
    "    kms_driven.append(title.split()[0])\n",
    "    \n",
    "\n",
    "owner_tags=driver.find_elements_by_xpath(\"//ul[@class='bVR0c']\")\n",
    "for i in owner_tags:\n",
    "    title=i.text\n",
    "    no_of_owners.append(title.split()[2])\n",
    "    \n",
    "fuel_tags=driver.find_elements_by_xpath(\"//ul[@class='bVR0c']\")\n",
    "for i in fuel_tags:\n",
    "    title=i.text\n",
    "    fuel_type.append(title.split()[4])\n",
    "\n",
    "price_tags=driver.find_elements_by_xpath(\"//div[@class='_7udZZ']\")\n",
    "for i in price_tags:\n",
    "    title=i.text\n",
    "    Price.append(title)"
   ]
  },
  {
   "cell_type": "code",
   "execution_count": null,
   "id": "d7a65340",
   "metadata": {},
   "outputs": [],
   "source": [
    "print(len(Brand),len(Variant),len(no_of_owners),len(fuel_type),len(Price),len(kms_driven))"
   ]
  },
  {
   "cell_type": "code",
   "execution_count": null,
   "id": "a373cbc0",
   "metadata": {},
   "outputs": [],
   "source": [
    "driver.close()"
   ]
  },
  {
   "cell_type": "code",
   "execution_count": null,
   "id": "c13d1121",
   "metadata": {},
   "outputs": [],
   "source": [
    "driver=webdriver.Chrome(\"/Users/sraazi_reni/Downloads/chromedriver\")\n",
    "time.sleep(2)\n",
    "\n",
    "driver.get(\"https://www.cars24.com/buy-used-car?sort=P&storeCityId=2423&pinId=411001\")   #Pune\n",
    "time.sleep(5)"
   ]
  },
  {
   "cell_type": "code",
   "execution_count": null,
   "id": "40a39654",
   "metadata": {},
   "outputs": [],
   "source": [
    "#scroll\n",
    "for _ in range(1000):\n",
    "    driver.execute_script(\"window.scrollBy(0,1000)\")\n",
    "time.sleep(2)"
   ]
  },
  {
   "cell_type": "code",
   "execution_count": null,
   "id": "271cb2eb",
   "metadata": {},
   "outputs": [],
   "source": [
    "titles_tags=driver.find_elements_by_xpath(\"//h2[@class='_3FpCg']\")\n",
    "for i in titles_tags:\n",
    "    title=i.text\n",
    "    Brand.append(title)\n",
    "    \n",
    "\n",
    "variant_tags=driver.find_elements_by_xpath(\"//p[@class='cvakB']\")\n",
    "for i in variant_tags:\n",
    "    title=i.text\n",
    "    Variant.append(title)\n",
    "    \n",
    "\n",
    "km_tags=driver.find_elements_by_xpath(\"//ul[@class='bVR0c']\")\n",
    "for i in km_tags:\n",
    "    title=i.text\n",
    "    kms_driven.append(title.split()[0])\n",
    "    \n",
    "\n",
    "owner_tags=driver.find_elements_by_xpath(\"//ul[@class='bVR0c']\")\n",
    "for i in owner_tags:\n",
    "    title=i.text\n",
    "    no_of_owners.append(title.split()[2])\n",
    "    \n",
    "fuel_tags=driver.find_elements_by_xpath(\"//ul[@class='bVR0c']\")\n",
    "for i in fuel_tags:\n",
    "    title=i.text\n",
    "    fuel_type.append(title.split()[4])\n",
    "\n",
    "price_tags=driver.find_elements_by_xpath(\"//div[@class='_7udZZ']\")\n",
    "for i in price_tags:\n",
    "    title=i.text\n",
    "    Price.append(title)"
   ]
  },
  {
   "cell_type": "code",
   "execution_count": null,
   "id": "6dceee36",
   "metadata": {},
   "outputs": [],
   "source": [
    "print(len(Brand),len(Variant),len(no_of_owners),len(fuel_type),len(Price),len(kms_driven))"
   ]
  },
  {
   "cell_type": "code",
   "execution_count": null,
   "id": "37f58385",
   "metadata": {},
   "outputs": [],
   "source": [
    "driver.close()"
   ]
  },
  {
   "cell_type": "code",
   "execution_count": null,
   "id": "1ad704e4",
   "metadata": {},
   "outputs": [],
   "source": [
    "driver=webdriver.Chrome(\"/Users/sraazi_reni/Downloads/chromedriver\")\n",
    "time.sleep(2)\n",
    "\n",
    "driver.get(\"https://www.cars24.com/buy-used-car?sort=P&storeCityId=4709&pinId=560001\")   #Bengaluru\n",
    "time.sleep(5)"
   ]
  },
  {
   "cell_type": "code",
   "execution_count": null,
   "id": "77780022",
   "metadata": {},
   "outputs": [],
   "source": [
    "#scroll\n",
    "for _ in range(5000):\n",
    "    driver.execute_script(\"window.scrollBy(0,5000)\")\n",
    "time.sleep(2)"
   ]
  },
  {
   "cell_type": "code",
   "execution_count": null,
   "id": "cc2788bc",
   "metadata": {},
   "outputs": [],
   "source": [
    "titles_tags=driver.find_elements_by_xpath(\"//h2[@class='_3FpCg']\")\n",
    "for i in titles_tags:\n",
    "    title=i.text\n",
    "    Brand.append(title)\n",
    "    \n",
    "\n",
    "variant_tags=driver.find_elements_by_xpath(\"//p[@class='cvakB']\")\n",
    "for i in variant_tags:\n",
    "    title=i.text\n",
    "    Variant.append(title)\n",
    "    \n",
    "\n",
    "km_tags=driver.find_elements_by_xpath(\"//ul[@class='bVR0c']\")\n",
    "for i in km_tags:\n",
    "    title=i.text\n",
    "    kms_driven.append(title.split()[0])\n",
    "    \n",
    "\n",
    "owner_tags=driver.find_elements_by_xpath(\"//ul[@class='bVR0c']\")\n",
    "for i in owner_tags:\n",
    "    title=i.text\n",
    "    no_of_owners.append(title.split()[2])\n",
    "    \n",
    "fuel_tags=driver.find_elements_by_xpath(\"//ul[@class='bVR0c']\")\n",
    "for i in fuel_tags:\n",
    "    title=i.text\n",
    "    fuel_type.append(title.split()[4])\n",
    "\n",
    "price_tags=driver.find_elements_by_xpath(\"//div[@class='_7udZZ']\")\n",
    "for i in price_tags:\n",
    "    title=i.text\n",
    "    Price.append(title)"
   ]
  },
  {
   "cell_type": "code",
   "execution_count": null,
   "id": "2e030fcf",
   "metadata": {},
   "outputs": [],
   "source": [
    "print(len(Brand),len(Variant),len(no_of_owners),len(fuel_type),len(Price),len(kms_driven))"
   ]
  },
  {
   "cell_type": "code",
   "execution_count": null,
   "id": "4faa14e4",
   "metadata": {},
   "outputs": [],
   "source": [
    "driver.close()"
   ]
  },
  {
   "cell_type": "code",
   "execution_count": null,
   "id": "761bf325",
   "metadata": {},
   "outputs": [],
   "source": [
    "driver=webdriver.Chrome(\"/Users/sraazi_reni/Downloads/chromedriver\")\n",
    "time.sleep(2)\n",
    "\n",
    "driver.get(\"https://www.cars24.com/buy-used-car?sort=P&storeCityId=3686&pinId=500001\")   #Hyderabad\n",
    "time.sleep(5)"
   ]
  },
  {
   "cell_type": "code",
   "execution_count": null,
   "id": "ad555133",
   "metadata": {},
   "outputs": [],
   "source": [
    "#scroll\n",
    "for _ in range(500):\n",
    "    driver.execute_script(\"window.scrollBy(0,5000)\")\n",
    "time.sleep(2)"
   ]
  },
  {
   "cell_type": "code",
   "execution_count": null,
   "id": "cf4a4808",
   "metadata": {},
   "outputs": [],
   "source": [
    "titles_tags=driver.find_elements_by_xpath(\"//h2[@class='_3FpCg']\")\n",
    "for i in titles_tags:\n",
    "    title=i.text\n",
    "    Brand.append(title)\n",
    "    \n",
    "\n",
    "variant_tags=driver.find_elements_by_xpath(\"//p[@class='cvakB']\")\n",
    "for i in variant_tags:\n",
    "    title=i.text\n",
    "    Variant.append(title)\n",
    "    \n",
    "\n",
    "km_tags=driver.find_elements_by_xpath(\"//ul[@class='bVR0c']\")\n",
    "for i in km_tags:\n",
    "    title=i.text\n",
    "    kms_driven.append(title.split()[0])\n",
    "    \n",
    "\n",
    "owner_tags=driver.find_elements_by_xpath(\"//ul[@class='bVR0c']\")\n",
    "for i in owner_tags:\n",
    "    title=i.text\n",
    "    no_of_owners.append(title.split()[2])\n",
    "    \n",
    "fuel_tags=driver.find_elements_by_xpath(\"//ul[@class='bVR0c']\")\n",
    "for i in fuel_tags:\n",
    "    title=i.text\n",
    "    fuel_type.append(title.split()[4])\n",
    "\n",
    "price_tags=driver.find_elements_by_xpath(\"//div[@class='_7udZZ']\")\n",
    "for i in price_tags:\n",
    "    title=i.text\n",
    "    Price.append(title)"
   ]
  },
  {
   "cell_type": "code",
   "execution_count": null,
   "id": "3ee3f9f8",
   "metadata": {},
   "outputs": [],
   "source": [
    "print(len(Brand),len(Variant),len(no_of_owners),len(fuel_type),len(Price),len(kms_driven))"
   ]
  },
  {
   "cell_type": "code",
   "execution_count": null,
   "id": "202216b0",
   "metadata": {},
   "outputs": [],
   "source": [
    "driver.close()"
   ]
  },
  {
   "cell_type": "code",
   "execution_count": null,
   "id": "37390b1c",
   "metadata": {},
   "outputs": [],
   "source": [
    "driver=webdriver.Chrome(\"/Users/sraazi_reni/Downloads/chromedriver\")\n",
    "time.sleep(2)\n",
    "\n",
    "driver.get(\"https://www.cars24.com/buy-used-car?sort=P&storeCityId=5732&pinId=600001\")   #chennai\n",
    "time.sleep(5)"
   ]
  },
  {
   "cell_type": "code",
   "execution_count": null,
   "id": "32fc3870",
   "metadata": {},
   "outputs": [],
   "source": [
    "#scroll\n",
    "for _ in range(5000):\n",
    "    driver.execute_script(\"window.scrollBy(0,5000)\")\n",
    "time.sleep(2)"
   ]
  },
  {
   "cell_type": "code",
   "execution_count": null,
   "id": "ae5a9417",
   "metadata": {},
   "outputs": [],
   "source": [
    "titles_tags=driver.find_elements_by_xpath(\"//h2[@class='_3FpCg']\")\n",
    "for i in titles_tags:\n",
    "    title=i.text\n",
    "    Brand.append(title)\n",
    "    \n",
    "\n",
    "variant_tags=driver.find_elements_by_xpath(\"//p[@class='cvakB']\")\n",
    "for i in variant_tags:\n",
    "    title=i.text\n",
    "    Variant.append(title)\n",
    "    \n",
    "\n",
    "km_tags=driver.find_elements_by_xpath(\"//ul[@class='bVR0c']\")\n",
    "for i in km_tags:\n",
    "    title=i.text\n",
    "    kms_driven.append(title.split()[0])\n",
    "    \n",
    "\n",
    "owner_tags=driver.find_elements_by_xpath(\"//ul[@class='bVR0c']\")\n",
    "for i in owner_tags:\n",
    "    title=i.text\n",
    "    no_of_owners.append(title.split()[2])\n",
    "    \n",
    "fuel_tags=driver.find_elements_by_xpath(\"//ul[@class='bVR0c']\")\n",
    "for i in fuel_tags:\n",
    "    title=i.text\n",
    "    fuel_type.append(title.split()[4])\n",
    "\n",
    "price_tags=driver.find_elements_by_xpath(\"//div[@class='_7udZZ']\")\n",
    "for i in price_tags:\n",
    "    title=i.text\n",
    "    Price.append(title)"
   ]
  },
  {
   "cell_type": "code",
   "execution_count": null,
   "id": "68e0b60c",
   "metadata": {},
   "outputs": [],
   "source": [
    "print(len(Brand),len(Variant),len(no_of_owners),len(fuel_type),len(Price),len(kms_driven))"
   ]
  },
  {
   "cell_type": "code",
   "execution_count": null,
   "id": "f787b0ae",
   "metadata": {},
   "outputs": [],
   "source": [
    "driver.close()"
   ]
  },
  {
   "cell_type": "code",
   "execution_count": null,
   "id": "4b4121f5",
   "metadata": {},
   "outputs": [],
   "source": [
    "driver=webdriver.Chrome(\"/Users/sraazi_reni/Downloads/chromedriver\")\n",
    "time.sleep(2)\n",
    "\n",
    "driver.get(\"https://www.cars24.com/buy-used-car?sort=P&storeCityId=777&pinId=700001\")   #kolkata\n",
    "time.sleep(5)"
   ]
  },
  {
   "cell_type": "code",
   "execution_count": null,
   "id": "72b1e8ad",
   "metadata": {},
   "outputs": [],
   "source": [
    "#scroll\n",
    "for _ in range(150):\n",
    "    time.sleep(1)\n",
    "    driver.execute_script(\"window.scrollBy(0,1000)\")"
   ]
  },
  {
   "cell_type": "code",
   "execution_count": null,
   "id": "ac89de70",
   "metadata": {},
   "outputs": [],
   "source": [
    "titles_tags=driver.find_elements_by_xpath(\"//h2[@class='_3FpCg']\")\n",
    "for i in titles_tags:\n",
    "    title=i.text\n",
    "    Brand.append(title)\n",
    "    \n",
    "\n",
    "variant_tags=driver.find_elements_by_xpath(\"//p[@class='cvakB']\")\n",
    "for i in variant_tags:\n",
    "    title=i.text\n",
    "    Variant.append(title)\n",
    "    \n",
    "\n",
    "km_tags=driver.find_elements_by_xpath(\"//ul[@class='bVR0c']\")\n",
    "for i in km_tags:\n",
    "    title=i.text\n",
    "    kms_driven.append(title.split()[0])\n",
    "    \n",
    "\n",
    "owner_tags=driver.find_elements_by_xpath(\"//ul[@class='bVR0c']\")\n",
    "for i in owner_tags:\n",
    "    title=i.text\n",
    "    no_of_owners.append(title.split()[2])\n",
    "    \n",
    "fuel_tags=driver.find_elements_by_xpath(\"//ul[@class='bVR0c']\")\n",
    "for i in fuel_tags:\n",
    "    title=i.text\n",
    "    fuel_type.append(title.split()[4])\n",
    "\n",
    "price_tags=driver.find_elements_by_xpath(\"//div[@class='_7udZZ']\")\n",
    "for i in price_tags:\n",
    "    title=i.text\n",
    "    Price.append(title)"
   ]
  },
  {
   "cell_type": "code",
   "execution_count": null,
   "id": "a299f500",
   "metadata": {},
   "outputs": [],
   "source": [
    "print(len(Brand),len(Variant),len(no_of_owners),len(fuel_type),len(Price),len(kms_driven))"
   ]
  },
  {
   "cell_type": "code",
   "execution_count": null,
   "id": "f3a66c10",
   "metadata": {},
   "outputs": [],
   "source": [
    "driver.close()"
   ]
  },
  {
   "cell_type": "code",
   "execution_count": null,
   "id": "ade0e1da",
   "metadata": {},
   "outputs": [],
   "source": [
    "driver=webdriver.Chrome(\"/Users/sraazi_reni/Downloads/chromedriver\")\n",
    "time.sleep(2)\n",
    "\n",
    "driver.get(\"https://www.cars24.com/buy-used-car?sort=P&storeCityId=1692&pinId=380001\")   #Ahmedabad\n",
    "time.sleep(5)"
   ]
  },
  {
   "cell_type": "code",
   "execution_count": null,
   "id": "282f7e35",
   "metadata": {},
   "outputs": [],
   "source": [
    "#scroll\n",
    "for _ in range(1000):\n",
    "    driver.execute_script(\"window.scrollBy(0,1000)\")"
   ]
  },
  {
   "cell_type": "code",
   "execution_count": null,
   "id": "00c0d30a",
   "metadata": {},
   "outputs": [],
   "source": [
    "titles_tags=driver.find_elements_by_xpath(\"//h2[@class='_3FpCg']\")\n",
    "for i in titles_tags:\n",
    "    title=i.text\n",
    "    Brand.append(title)\n",
    "    \n",
    "\n",
    "variant_tags=driver.find_elements_by_xpath(\"//p[@class='cvakB']\")\n",
    "for i in variant_tags:\n",
    "    title=i.text\n",
    "    Variant.append(title)\n",
    "    \n",
    "\n",
    "km_tags=driver.find_elements_by_xpath(\"//ul[@class='bVR0c']\")\n",
    "for i in km_tags:\n",
    "    title=i.text\n",
    "    kms_driven.append(title.split()[0])\n",
    "    \n",
    "\n",
    "owner_tags=driver.find_elements_by_xpath(\"//ul[@class='bVR0c']\")\n",
    "for i in owner_tags:\n",
    "    title=i.text\n",
    "    no_of_owners.append(title.split()[2])\n",
    "    \n",
    "fuel_tags=driver.find_elements_by_xpath(\"//ul[@class='bVR0c']\")\n",
    "for i in fuel_tags:\n",
    "    title=i.text\n",
    "    fuel_type.append(title.split()[4])\n",
    "\n",
    "price_tags=driver.find_elements_by_xpath(\"//div[@class='_7udZZ']\")\n",
    "for i in price_tags:\n",
    "    title=i.text\n",
    "    Price.append(title)"
   ]
  },
  {
   "cell_type": "code",
   "execution_count": null,
   "id": "9c028d97",
   "metadata": {},
   "outputs": [],
   "source": [
    "print(len(Brand),len(Variant),len(no_of_owners),len(fuel_type),len(Price),len(kms_driven))"
   ]
  },
  {
   "cell_type": "code",
   "execution_count": null,
   "id": "1220552e",
   "metadata": {},
   "outputs": [],
   "source": [
    "driver.close()"
   ]
  },
  {
   "cell_type": "code",
   "execution_count": null,
   "id": "9c5125a0",
   "metadata": {},
   "outputs": [],
   "source": [
    "driver=webdriver.Chrome(\"/Users/sraazi_reni/Downloads/chromedriver\")\n",
    "time.sleep(2)\n",
    "\n",
    "driver.get(\"https://www.cars24.com/buy-used-car?sort=P&storeCityId=5&pinId=122001\")   #Gurgaon\n",
    "time.sleep(5)"
   ]
  },
  {
   "cell_type": "code",
   "execution_count": null,
   "id": "438c92f0",
   "metadata": {},
   "outputs": [],
   "source": [
    "#scroll\n",
    "for _ in range(1000):\n",
    "    driver.execute_script(\"window.scrollBy(0,1000)\")"
   ]
  },
  {
   "cell_type": "code",
   "execution_count": null,
   "id": "78d144a4",
   "metadata": {},
   "outputs": [],
   "source": [
    "titles_tags=driver.find_elements_by_xpath(\"//h2[@class='_3FpCg']\")\n",
    "for i in titles_tags:\n",
    "    title=i.text\n",
    "    Brand.append(title)\n",
    "    \n",
    "\n",
    "variant_tags=driver.find_elements_by_xpath(\"//p[@class='cvakB']\")\n",
    "for i in variant_tags:\n",
    "    title=i.text\n",
    "    Variant.append(title)\n",
    "    \n",
    "\n",
    "km_tags=driver.find_elements_by_xpath(\"//ul[@class='bVR0c']\")\n",
    "for i in km_tags:\n",
    "    title=i.text\n",
    "    kms_driven.append(title.split()[0])\n",
    "    \n",
    "\n",
    "owner_tags=driver.find_elements_by_xpath(\"//ul[@class='bVR0c']\")\n",
    "for i in owner_tags:\n",
    "    title=i.text\n",
    "    no_of_owners.append(title.split()[2])\n",
    "    \n",
    "fuel_tags=driver.find_elements_by_xpath(\"//ul[@class='bVR0c']\")\n",
    "for i in fuel_tags:\n",
    "    title=i.text\n",
    "    fuel_type.append(title.split()[4])\n",
    "\n",
    "price_tags=driver.find_elements_by_xpath(\"//div[@class='_7udZZ']\")\n",
    "for i in price_tags:\n",
    "    title=i.text\n",
    "    Price.append(title)"
   ]
  },
  {
   "cell_type": "code",
   "execution_count": null,
   "id": "71abfd3b",
   "metadata": {},
   "outputs": [],
   "source": [
    "print(len(Brand),len(Variant),len(no_of_owners),len(fuel_type),len(Price),len(kms_driven))"
   ]
  },
  {
   "cell_type": "code",
   "execution_count": null,
   "id": "9a2e4136",
   "metadata": {},
   "outputs": [],
   "source": [
    "driver.close()"
   ]
  }
 ],
 "metadata": {
  "kernelspec": {
   "display_name": "Python 3 (ipykernel)",
   "language": "python",
   "name": "python3"
  },
  "language_info": {
   "codemirror_mode": {
    "name": "ipython",
    "version": 3
   },
   "file_extension": ".py",
   "mimetype": "text/x-python",
   "name": "python",
   "nbconvert_exporter": "python",
   "pygments_lexer": "ipython3",
   "version": "3.9.12"
  }
 },
 "nbformat": 4,
 "nbformat_minor": 5
}
